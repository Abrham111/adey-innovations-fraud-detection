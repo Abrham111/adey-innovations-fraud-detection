{
 "cells": [
  {
   "cell_type": "markdown",
   "metadata": {},
   "source": [
    "## Fraud Detection Modeling"
   ]
  },
  {
   "cell_type": "code",
   "execution_count": 1,
   "metadata": {},
   "outputs": [],
   "source": [
    "# Import necessary libraries\n",
    "import pandas as pd\n",
    "from sklearn.model_selection import train_test_split\n",
    "from sklearn.linear_model import LogisticRegression\n",
    "from sklearn.tree import DecisionTreeClassifier\n",
    "from sklearn.ensemble import RandomForestClassifier, GradientBoostingClassifier\n",
    "from sklearn.neural_network import MLPClassifier\n",
    "# from sklearn.metrics import accuracy_score, precision_score, recall_score, f1_score, roc_auc_score\n",
    "# import mlflow\n",
    "import sys"
   ]
  },
  {
   "cell_type": "markdown",
   "metadata": {},
   "source": [
    "# Data preparation"
   ]
  },
  {
   "cell_type": "code",
   "execution_count": 2,
   "metadata": {},
   "outputs": [],
   "source": [
    "# Load datasets\n",
    "fraud_data = pd.read_csv('../data/fraud_data_processed.csv')\n",
    "creditcard_data = pd.read_csv('../data/credit_data_processed.csv')\n",
    "\n",
    "# Data Preparation\n",
    "# Drop the 'device_id' and 'ip_address' columns as they contain string values\n",
    "fraud_data = fraud_data.drop(columns=['device_id', 'ip_address'])\n",
    "\n",
    "# Convert datetime columns to numerical features\n",
    "fraud_data['signup_time'] = pd.to_datetime(fraud_data['signup_time']).astype(int) / 10**9\n",
    "fraud_data['purchase_time'] = pd.to_datetime(fraud_data['purchase_time']).astype(int) / 10**9\n",
    "\n",
    "# Feature and Target Separation\n",
    "X_fraud = fraud_data.drop('class', axis=1)\n",
    "y_fraud = fraud_data['class']\n",
    "\n",
    "X_credit = creditcard_data.drop('Class', axis=1)\n",
    "y_credit = creditcard_data['Class']\n",
    "\n",
    "# Train-Test Split\n",
    "X_fraud_train, X_fraud_test, y_fraud_train, y_fraud_test = train_test_split(X_fraud, y_fraud, test_size=0.2, random_state=42)\n",
    "X_credit_train, X_credit_test, y_credit_train, y_credit_test = train_test_split(X_credit, y_credit, test_size=0.2, random_state=42)\n",
    "\n",
    "# Model Selection\n",
    "models = {\n",
    "  'Logistic Regression': LogisticRegression(max_iter=1000),\n",
    "  'Decision Tree': DecisionTreeClassifier(),\n",
    "  'Random Forest': RandomForestClassifier(),\n",
    "  'Gradient Boosting': GradientBoostingClassifier(),\n",
    "  'Multi-Layer Perceptron': MLPClassifier(max_iter=500)\n",
    "}"
   ]
  },
  {
   "cell_type": "markdown",
   "metadata": {},
   "source": [
    "# Model Training and Evaluation"
   ]
  },
  {
   "cell_type": "code",
   "execution_count": 3,
   "metadata": {},
   "outputs": [
    {
     "name": "stdout",
     "output_type": "stream",
     "text": [
      "--- Fraud Data ---\n",
      "Logistic Regression on Fraud_Data: Accuracy=0.9057, Precision=1.0000, Recall=0.0000, F1=0.0000, ROC-AUC=0.5000\n",
      "Decision Tree on Fraud_Data: Accuracy=0.9033, Precision=0.4891, Recall=0.5674, F1=0.5253, ROC-AUC=0.7528\n",
      "Random Forest on Fraud_Data: Accuracy=0.9559, Precision=0.9884, Recall=0.5389, F1=0.6975, ROC-AUC=0.7691\n",
      "Gradient Boosting on Fraud_Data: Accuracy=0.9557, Precision=0.9834, Recall=0.5393, F1=0.6966, ROC-AUC=0.7692\n",
      "Multi-Layer Perceptron on Fraud_Data: Accuracy=0.6892, Precision=0.1161, Recall=0.3470, F1=0.1740, ROC-AUC=0.5359\n"
     ]
    }
   ],
   "source": [
    "# Training and Evaluating Models\n",
    "\n",
    "# import a function that performs training and evaluating from scripts folder\n",
    "sys.path.append(\"../scripts\")\n",
    "from model_train_evaluate import train_and_evaluate\n",
    "\n",
    "print(\"--- Fraud Data ---\")\n",
    "train_and_evaluate(models, X_fraud_train, X_fraud_test, y_fraud_train, y_fraud_test, \"Fraud_Data\")"
   ]
  },
  {
   "cell_type": "code",
   "execution_count": 4,
   "metadata": {},
   "outputs": [
    {
     "name": "stdout",
     "output_type": "stream",
     "text": [
      "--- Credit Card Data ---\n",
      "Logistic Regression on CreditCard_Data: Accuracy=0.9992, Precision=0.8889, Recall=0.5333, F1=0.6667, ROC-AUC=0.7666\n",
      "Decision Tree on CreditCard_Data: Accuracy=0.9990, Precision=0.6882, Recall=0.7111, F1=0.6995, ROC-AUC=0.8553\n",
      "Random Forest on CreditCard_Data: Accuracy=0.9995, Precision=0.9697, Recall=0.7111, F1=0.8205, ROC-AUC=0.8555\n",
      "Gradient Boosting on CreditCard_Data: Accuracy=0.9993, Precision=0.8906, Recall=0.6333, F1=0.7403, ROC-AUC=0.8166\n",
      "Multi-Layer Perceptron on CreditCard_Data: Accuracy=0.9995, Precision=0.9412, Recall=0.7111, F1=0.8101, ROC-AUC=0.8555\n"
     ]
    }
   ],
   "source": [
    "print(\"--- Credit Card Data ---\")\n",
    "train_and_evaluate(models, X_credit_train, X_credit_test, y_credit_train, y_credit_test, \"CreditCard_Data\")"
   ]
  }
 ],
 "metadata": {
  "kernelspec": {
   "display_name": "venv",
   "language": "python",
   "name": "python3"
  },
  "language_info": {
   "codemirror_mode": {
    "name": "ipython",
    "version": 3
   },
   "file_extension": ".py",
   "mimetype": "text/x-python",
   "name": "python",
   "nbconvert_exporter": "python",
   "pygments_lexer": "ipython3",
   "version": "3.13.0"
  }
 },
 "nbformat": 4,
 "nbformat_minor": 2
}
